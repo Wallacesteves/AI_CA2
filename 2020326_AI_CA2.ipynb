{
 "cells": [
  {
   "cell_type": "markdown",
   "id": "25566853-3980-4fa8-810e-d3e99ae02be3",
   "metadata": {},
   "source": [
    "# Wallace Esteves de Carvalho\n",
    "### Student ID : 2020326"
   ]
  },
  {
   "cell_type": "markdown",
   "id": "41f32e9a-89ab-4610-b5c9-2274d465e47e",
   "metadata": {},
   "source": [
    "Fig. 1 \n",
    "(a)\tThe graph in Fig. 1 is a visualisation of the problem. \n"
   ]
  },
  {
   "cell_type": "markdown",
   "id": "a45c4cda-bb31-41f7-aeea-9d88b17f7d87",
   "metadata": {},
   "source": [
    "Questions \r\n",
    "1\tA puzzle has multiple ways of reaching the end solution. Fig. 1 shows a graph that represents all possible routes to the solution. The starting point of the game is represented by A, the solution is represented by S. The other points in the graph are possible intermediary stages. \r\n",
    "(a)\tThe graph in Fig. 1 is a visualisation of the problem. \r\n",
    "(i)\tIdentify the differences between a graph and a tree.  \r\n",
    "(ii)\tExplain in detail how the graph is an abstraction of the problem. \r\n",
    "(iii)\tIdentify the advantages of using a visualisation such as the one shown in Fig. 1. \r\n",
    "(b)\tDemonstrate how Dijkstra’s algorithm would find the shortest path to the solution in Fig.1 through diagrams and written explanation of each stage. \r\n",
    "2\tThe creator of the puzzle has been told that the A* algorithm is more efficient at finding the shortest path because it uses heuristics. Compare the performance of Dijkstra’s algorithm and the A* search algorithm, referring to heuristics, to find the shortest path to the problem by implementing both algorithms programmatically and comparing the solutions generated in Mark-down. Refer to the complexity of the algorithms and compare the actual time it takes for the solutions to be processed. \r\n"
   ]
  },
  {
   "cell_type": "markdown",
   "id": "1a346b18-94e7-48e5-85a4-f881e99f88ea",
   "metadata": {},
   "source": []
  },
  {
   "cell_type": "code",
   "execution_count": null,
   "id": "51e84905-1eb8-4020-9ca1-2f403c3f5e1f",
   "metadata": {},
   "outputs": [],
   "source": []
  },
  {
   "cell_type": "code",
   "execution_count": null,
   "id": "b6b88f16-83eb-4b04-bae9-bf3e9d4b0e32",
   "metadata": {},
   "outputs": [],
   "source": []
  },
  {
   "cell_type": "markdown",
   "id": "94f9a4c6-ca23-4b58-ad3c-ccd12db58d90",
   "metadata": {},
   "source": [
    "Creating the graphic"
   ]
  },
  {
   "cell_type": "code",
   "execution_count": 3,
   "id": "17c197ee-8cde-4948-a2f9-bf3052fe57da",
   "metadata": {},
   "outputs": [],
   "source": [
    "\n",
    "import networkx as nx\n",
    "import matplotlib.pyplot as plt"
   ]
  },
  {
   "cell_type": "code",
   "execution_count": null,
   "id": "592239c9-ed54-4387-9354-b7afe89eff08",
   "metadata": {},
   "outputs": [],
   "source": []
  },
  {
   "cell_type": "code",
   "execution_count": null,
   "id": "314f39a9-969a-4602-9895-a4cde8559cc8",
   "metadata": {},
   "outputs": [],
   "source": []
  }
 ],
 "metadata": {
  "kernelspec": {
   "display_name": "Python 3 (ipykernel)",
   "language": "python",
   "name": "python3"
  },
  "language_info": {
   "codemirror_mode": {
    "name": "ipython",
    "version": 3
   },
   "file_extension": ".py",
   "mimetype": "text/x-python",
   "name": "python",
   "nbconvert_exporter": "python",
   "pygments_lexer": "ipython3",
   "version": "3.11.5"
  }
 },
 "nbformat": 4,
 "nbformat_minor": 5
}
